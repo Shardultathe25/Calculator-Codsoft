{
 "cells": [
  {
   "cell_type": "markdown",
   "id": "f7fbaf36-c51f-4823-8592-3ae761cc427d",
   "metadata": {},
   "source": [
    "## Creating a simple calculator with basic arithmetic operations"
   ]
  },
  {
   "cell_type": "code",
   "execution_count": 1,
   "id": "8eaca92f-d3f3-41dc-9848-4b509fedc88d",
   "metadata": {},
   "outputs": [],
   "source": [
    "import tkinter as tk"
   ]
  },
  {
   "cell_type": "code",
   "execution_count": 2,
   "id": "5d1134b2-f60a-47bc-916b-5ed4bc7d363f",
   "metadata": {},
   "outputs": [],
   "source": [
    "def add():\n",
    "    try:\n",
    "        num1 = float(entry1.get())\n",
    "        num2 = float(entry2.get())\n",
    "        result = num1 + num2\n",
    "        display_result(result)\n",
    "    except ValueError:\n",
    "        display_result(\"Invalid input!\")"
   ]
  },
  {
   "cell_type": "code",
   "execution_count": 3,
   "id": "790483fa-668b-423c-b69d-9a9a577542a3",
   "metadata": {},
   "outputs": [],
   "source": [
    "def subtract():\n",
    "    try:\n",
    "        num1 = float(entry1.get())\n",
    "        num2 = float(entry2.get())\n",
    "        result = num1 - num2\n",
    "        display_result(result)\n",
    "    except ValueError:\n",
    "        display_result(\"Invalid input!\")"
   ]
  },
  {
   "cell_type": "code",
   "execution_count": 4,
   "id": "e420b89a-b3cf-4803-87ab-093520756b52",
   "metadata": {},
   "outputs": [],
   "source": [
    "def multiply():\n",
    "    try:\n",
    "        num1 = float(entry1.get())\n",
    "        num2 = float(entry2.get())\n",
    "        result = num1 * num2\n",
    "        display_result(result)\n",
    "    except ValueError:\n",
    "        display_result(\"Invalid input!\")"
   ]
  },
  {
   "cell_type": "code",
   "execution_count": 5,
   "id": "e784aa25-6de7-481c-b802-e5d9020c7796",
   "metadata": {},
   "outputs": [],
   "source": [
    "def divide():\n",
    "    try:\n",
    "        num1 = float(entry1.get())\n",
    "        num2 = float(entry2.get())\n",
    "        if num2 == 0:\n",
    "            display_result(\"Cannot divide by zero!\")\n",
    "        else:\n",
    "            result = num1 / num2\n",
    "            display_result(result)\n",
    "    except ValueError:\n",
    "        display_result(\"Invalid input!\")"
   ]
  },
  {
   "cell_type": "code",
   "execution_count": 6,
   "id": "375931e4-1b11-435f-86fc-3971ffc026d8",
   "metadata": {},
   "outputs": [],
   "source": [
    "def display_result(result):\n",
    "    result_label.config(text=\"Result: \" + str(result))"
   ]
  },
  {
   "cell_type": "code",
   "execution_count": 9,
   "id": "0fbc9341-28bc-429d-b33e-efb79b9589d7",
   "metadata": {},
   "outputs": [
    {
     "data": {
      "text/plain": [
       "''"
      ]
     },
     "execution_count": 9,
     "metadata": {},
     "output_type": "execute_result"
    }
   ],
   "source": [
    "# Create a tkinter window\n",
    "window = tk.Tk()\n",
    "window.title(\"Calculator\")"
   ]
  },
  {
   "cell_type": "code",
   "execution_count": 10,
   "id": "a97879b3-4564-4fda-ac39-a44102001d03",
   "metadata": {},
   "outputs": [],
   "source": [
    "# Create input fields for numbers\n",
    "entry1 = tk.Entry(window)\n",
    "entry1.grid(row=0, column=0, padx=5, pady=5)\n",
    "entry2 = tk.Entry(window)\n",
    "entry2.grid(row=0, column=1, padx=5, pady=5)"
   ]
  },
  {
   "cell_type": "code",
   "execution_count": 11,
   "id": "d580846f-5ac5-43e9-8f59-1158e1128e36",
   "metadata": {},
   "outputs": [],
   "source": [
    "# Create buttons for arithmetic operations\n",
    "add_button = tk.Button(window, text=\"+\", command=add)\n",
    "add_button.grid(row=1, column=0, pady=5)\n",
    "subtract_button = tk.Button(window, text=\"-\", command=subtract)\n",
    "subtract_button.grid(row=1, column=1, pady=5)\n",
    "multiply_button = tk.Button(window, text=\"*\", command=multiply)\n",
    "multiply_button.grid(row=2, column=0, pady=5)\n",
    "divide_button = tk.Button(window, text=\"/\", command=divide)\n",
    "divide_button.grid(row=2, column=1, pady=5)"
   ]
  },
  {
   "cell_type": "code",
   "execution_count": 12,
   "id": "45c7e1b1-3675-4763-8e1b-66109b22bf9c",
   "metadata": {},
   "outputs": [],
   "source": [
    "# Create a label to display the result\n",
    "result_label = tk.Label(window, text=\"Result: \")\n",
    "result_label.grid(row=3, column=0, columnspan=2)"
   ]
  },
  {
   "cell_type": "code",
   "execution_count": 13,
   "id": "45aa4156-32a0-4e9c-bad3-821d1fe54e6f",
   "metadata": {},
   "outputs": [],
   "source": [
    "# Start the GUI main loop\n",
    "window.mainloop()"
   ]
  },
  {
   "cell_type": "code",
   "execution_count": null,
   "id": "b37bdee9-1254-4320-ac63-abf31be13143",
   "metadata": {},
   "outputs": [],
   "source": []
  }
 ],
 "metadata": {
  "kernelspec": {
   "display_name": "Python 3 (ipykernel)",
   "language": "python",
   "name": "python3"
  },
  "language_info": {
   "codemirror_mode": {
    "name": "ipython",
    "version": 3
   },
   "file_extension": ".py",
   "mimetype": "text/x-python",
   "name": "python",
   "nbconvert_exporter": "python",
   "pygments_lexer": "ipython3",
   "version": "3.9.13"
  }
 },
 "nbformat": 4,
 "nbformat_minor": 5
}
